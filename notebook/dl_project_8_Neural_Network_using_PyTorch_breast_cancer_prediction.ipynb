{
  "cells": [
    {
      "cell_type": "markdown",
      "metadata": {
        "id": "50GY2nZi0yvm"
      },
      "source": [
        "**Importing the Dependencies**"
      ]
    },
    {
      "cell_type": "code",
      "execution_count": 1,
      "metadata": {
        "id": "3UqJ7q-bmvK2"
      },
      "outputs": [],
      "source": [
        "import torch\n",
        "import torch.nn as nn\n",
        "import torch.optim as optim\n",
        "from sklearn.datasets import load_breast_cancer\n",
        "from sklearn.model_selection import train_test_split\n",
        "from sklearn.preprocessing import StandardScaler"
      ]
    },
    {
      "cell_type": "markdown",
      "metadata": {
        "id": "AQxTh4r51UNc"
      },
      "source": [
        "**Device Configuration**"
      ]
    },
    {
      "cell_type": "code",
      "execution_count": 2,
      "metadata": {
        "colab": {
          "base_uri": "https://localhost:8080/"
        },
        "id": "LjGJ5Ov01PO4",
        "outputId": "6110ce2a-d02a-4e82-ddfe-027c2f4af527"
      },
      "outputs": [
        {
          "name": "stdout",
          "output_type": "stream",
          "text": [
            "Using device: cuda\n"
          ]
        }
      ],
      "source": [
        "# check for CUDA availability\n",
        "device = torch.device(\"cuda\" if torch.cuda.is_available() else \"cpu\")\n",
        "print(f\"Using device: {device}\")"
      ]
    },
    {
      "cell_type": "markdown",
      "metadata": {
        "id": "ftLIW-gb12xD"
      },
      "source": [
        "**Data Collection and preprocessing**"
      ]
    },
    {
      "cell_type": "code",
      "execution_count": 3,
      "metadata": {
        "id": "Nhg-xdu51zTC"
      },
      "outputs": [],
      "source": [
        "# load the breast cancer dataset\n",
        "data = load_breast_cancer()\n",
        "X = data.data\n",
        "y = data.target"
      ]
    },
    {
      "cell_type": "code",
      "execution_count": 4,
      "metadata": {
        "colab": {
          "base_uri": "https://localhost:8080/"
        },
        "id": "d3Zay_xP2GDM",
        "outputId": "bd43da42-cbe4-44ec-8974-0e28cef61c7b"
      },
      "outputs": [
        {
          "name": "stdout",
          "output_type": "stream",
          "text": [
            "[[1.799e+01 1.038e+01 1.228e+02 ... 2.654e-01 4.601e-01 1.189e-01]\n",
            " [2.057e+01 1.777e+01 1.329e+02 ... 1.860e-01 2.750e-01 8.902e-02]\n",
            " [1.969e+01 2.125e+01 1.300e+02 ... 2.430e-01 3.613e-01 8.758e-02]\n",
            " ...\n",
            " [1.660e+01 2.808e+01 1.083e+02 ... 1.418e-01 2.218e-01 7.820e-02]\n",
            " [2.060e+01 2.933e+01 1.401e+02 ... 2.650e-01 4.087e-01 1.240e-01]\n",
            " [7.760e+00 2.454e+01 4.792e+01 ... 0.000e+00 2.871e-01 7.039e-02]]\n"
          ]
        }
      ],
      "source": [
        "print(X)"
      ]
    },
    {
      "cell_type": "code",
      "execution_count": 5,
      "metadata": {
        "colab": {
          "base_uri": "https://localhost:8080/"
        },
        "id": "5UYtJHLG2H9w",
        "outputId": "43765821-eb18-492c-e1e4-44160224e12a"
      },
      "outputs": [
        {
          "name": "stdout",
          "output_type": "stream",
          "text": [
            "[0 0 0 0 0]\n"
          ]
        }
      ],
      "source": [
        "print(y[:5])"
      ]
    },
    {
      "cell_type": "code",
      "execution_count": 6,
      "metadata": {
        "id": "TeC15_m-2JW9"
      },
      "outputs": [],
      "source": [
        "# split the dataset into training and test set\n",
        "X_train, X_test, y_train, y_test = train_test_split(X, y, test_size=0.2, random_state=42)"
      ]
    },
    {
      "cell_type": "code",
      "execution_count": 7,
      "metadata": {
        "colab": {
          "base_uri": "https://localhost:8080/"
        },
        "id": "TsJNpN-72cbv",
        "outputId": "0cde220e-ea84-4c2e-93b2-d15d7d11d343"
      },
      "outputs": [
        {
          "name": "stdout",
          "output_type": "stream",
          "text": [
            "(569, 30)\n",
            "(455, 30)\n",
            "(114, 30)\n"
          ]
        }
      ],
      "source": [
        "print(X.shape)\n",
        "print(X_train.shape)\n",
        "print(X_test.shape)"
      ]
    },
    {
      "cell_type": "code",
      "execution_count": 8,
      "metadata": {
        "id": "fl5FAzc-2iNS"
      },
      "outputs": [],
      "source": [
        "# standardize the data using Standard sclaer\n",
        "scaler = StandardScaler()\n",
        "\n",
        "X_train = scaler.fit_transform(X_train)\n",
        "X_test = scaler.transform(X_test)"
      ]
    },
    {
      "cell_type": "code",
      "execution_count": 9,
      "metadata": {
        "colab": {
          "base_uri": "https://localhost:8080/"
        },
        "id": "6vHNjJQX3HRr",
        "outputId": "4e27887b-756d-4f99-b009-3c02bada5bc9"
      },
      "outputs": [
        {
          "data": {
            "text/plain": [
              "numpy.ndarray"
            ]
          },
          "execution_count": 9,
          "metadata": {},
          "output_type": "execute_result"
        }
      ],
      "source": [
        "type(X_train)"
      ]
    },
    {
      "cell_type": "code",
      "execution_count": 10,
      "metadata": {
        "id": "vaGLX4ye3Kab"
      },
      "outputs": [],
      "source": [
        "# convert data to PyTorch tensors and move it to GPU\n",
        "X_train = torch.tensor(X_train, dtype=torch.float32).to(device)\n",
        "y_train = torch.tensor(y_train, dtype=torch.float32).to(device)\n",
        "X_test = torch.tensor(X_test, dtype=torch.float32).to(device)\n",
        "y_test = torch.tensor(y_test, dtype=torch.float32).to(device)"
      ]
    },
    {
      "cell_type": "markdown",
      "metadata": {
        "id": "oe8WXW1a4JHP"
      },
      "source": [
        "**Neural Network Architecture**"
      ]
    },
    {
      "cell_type": "code",
      "execution_count": 11,
      "metadata": {
        "id": "2BnIGZRV4CfC"
      },
      "outputs": [],
      "source": [
        "# define the neural network architecture\n",
        "\n",
        "class NeuralNet(nn.Module):\n",
        "\n",
        "  def __init__(self, input_size, hidden_size, output_size):\n",
        "    super(NeuralNet, self).__init__()\n",
        "    self.fc1 = nn.Linear(input_size, hidden_size)\n",
        "    self.relu = nn.ReLU()\n",
        "    self.fc2 = nn.Linear(hidden_size, output_size)\n",
        "    self.sigmoid = nn.Sigmoid()\n",
        "\n",
        "  def forward(self, x):\n",
        "    out = self.fc1(x)\n",
        "    out = self.relu(out)\n",
        "    out = self.fc2(out)\n",
        "    out = self.sigmoid(out)\n",
        "    return out"
      ]
    },
    {
      "cell_type": "code",
      "execution_count": 12,
      "metadata": {
        "id": "Ji9KwG2L4qKE"
      },
      "outputs": [],
      "source": [
        "# define hyperparameters\n",
        "input_size = X_train.shape[1]\n",
        "hidden_size = 64\n",
        "output_size = 1\n",
        "learning_rate = 0.01\n",
        "num_epochs = 25"
      ]
    },
    {
      "cell_type": "code",
      "execution_count": 13,
      "metadata": {
        "id": "A1vWq9fX8Ilh"
      },
      "outputs": [],
      "source": [
        "# initialize the neural network and move it the GPU\n",
        "model = NeuralNet(input_size, hidden_size, output_size).to(device)"
      ]
    },
    {
      "cell_type": "code",
      "execution_count": 14,
      "metadata": {
        "id": "0EZz4TbB8Y8q"
      },
      "outputs": [],
      "source": [
        "# define loss and the optiizer\n",
        "criterion = nn.BCELoss()\n",
        "optimizer = optim.Adam(model.parameters(), lr=learning_rate)"
      ]
    },
    {
      "cell_type": "markdown",
      "metadata": {
        "id": "gmOFZNMJ84Ll"
      },
      "source": [
        "**Training the Neural Network**"
      ]
    },
    {
      "cell_type": "code",
      "execution_count": 15,
      "metadata": {
        "colab": {
          "base_uri": "https://localhost:8080/"
        },
        "id": "19ZfT5OY819V",
        "outputId": "af58b702-4161-41d8-943d-aea7f5922e0b"
      },
      "outputs": [
        {
          "name": "stdout",
          "output_type": "stream",
          "text": [
            "Epoch [10/25], Loss : 0.1326, Accuracy: 96.04%\n",
            "Epoch [20/25], Loss : 0.0722, Accuracy: 98.02%\n"
          ]
        }
      ],
      "source": [
        "# training the model\n",
        "for epoch in range(num_epochs):\n",
        "  model.train()\n",
        "  optimizer.zero_grad()\n",
        "  outputs = model(X_train)\n",
        "  loss = criterion(outputs, y_train.view(-1,1))\n",
        "  loss.backward()\n",
        "  optimizer.step()\n",
        "\n",
        "  # claculate accuracy\n",
        "  with torch.no_grad():\n",
        "    predicted = outputs.round()\n",
        "    correct = (predicted == y_train.view(-1,1)).float().sum()\n",
        "    accuracy = correct/y_train.size(0)\n",
        "\n",
        "  if (epoch+1) % 10 == 0:\n",
        "    print(f\"Epoch [{epoch+1}/{num_epochs}], Loss : {loss.item():.4f}, Accuracy: {accuracy.item() * 100:.2f}%\")"
      ]
    },
    {
      "cell_type": "markdown",
      "metadata": {
        "id": "k9fymbOw_q7V"
      },
      "source": [
        "**Model Evaluation**"
      ]
    },
    {
      "cell_type": "code",
      "execution_count": 16,
      "metadata": {
        "colab": {
          "base_uri": "https://localhost:8080/"
        },
        "id": "t6ckSYVl_a3x",
        "outputId": "e65a8087-4893-49ed-c8e0-95f7f4424a17"
      },
      "outputs": [
        {
          "name": "stdout",
          "output_type": "stream",
          "text": [
            "Accuracy on training data: 97.80%\n"
          ]
        }
      ],
      "source": [
        "# evaluation on training set\n",
        "model.eval()\n",
        "with torch.no_grad():\n",
        "  outputs = model(X_train)\n",
        "  predicted = outputs.round()\n",
        "  correct = (predicted == y_train.view(-1,1)).float().sum()\n",
        "  accuracy = correct/y_train.size(0)\n",
        "  print(f\"Accuracy on training data: {accuracy.item() * 100:.2f}%\")"
      ]
    },
    {
      "cell_type": "code",
      "execution_count": 17,
      "metadata": {
        "colab": {
          "base_uri": "https://localhost:8080/"
        },
        "id": "VVa6JW3JAUkl",
        "outputId": "42db6a8d-e8ac-4ce5-bf22-4326528b2711"
      },
      "outputs": [
        {
          "name": "stdout",
          "output_type": "stream",
          "text": [
            "Accuracy on test data: 99.12%\n"
          ]
        }
      ],
      "source": [
        "# evaluation on test set\n",
        "model.eval()\n",
        "with torch.no_grad():\n",
        "  outputs = model(X_test)\n",
        "  predicted = outputs.round()\n",
        "  correct = (predicted == y_test.view(-1,1)).float().sum()\n",
        "  accuracy = correct/y_test.size(0)\n",
        "  print(f\"Accuracy on test data: {accuracy.item() * 100:.2f}%\")"
      ]
    },
    {
      "cell_type": "code",
      "execution_count": null,
      "metadata": {
        "id": "oyXX4KtAAdDQ"
      },
      "outputs": [],
      "source": []
    }
  ],
  "metadata": {
    "accelerator": "GPU",
    "colab": {
      "gpuType": "T4",
      "provenance": []
    },
    "kernelspec": {
      "display_name": "Python 3",
      "name": "python3"
    },
    "language_info": {
      "codemirror_mode": {
        "name": "ipython",
        "version": 3
      },
      "file_extension": ".py",
      "mimetype": "text/x-python",
      "name": "python",
      "nbconvert_exporter": "python",
      "pygments_lexer": "ipython3",
      "version": "3.10.14"
    }
  },
  "nbformat": 4,
  "nbformat_minor": 0
}
